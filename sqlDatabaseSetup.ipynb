{
    "metadata": {
        "kernelspec": {
            "name": "SQL",
            "display_name": "SQL",
            "language": "sql"
        },
        "language_info": {
            "name": "sql",
            "version": ""
        }
    },
    "nbformat_minor": 2,
    "nbformat": 4,
    "cells": [
        {
            "cell_type": "markdown",
            "source": [
                "User database created, now a table for the information that is stored"
            ],
            "metadata": {
                "azdata_cell_guid": "bf94cd80-6756-4d8a-95b3-960f9e38dbce"
            },
            "attachments": {}
        },
        {
            "cell_type": "code",
            "source": [
                "CREATE TABLE users(\r\n",
                "    UserID INT PRIMARY KEY IDENTITY(1,1),\r\n",
                "    Username NVARCHAR(50) NOT NULL UNIQUE,\r\n",
                "    Password NVARCHAR(256) NOT NULL,\r\n",
                "    image NVARCHAR(max) NOT NULL\r\n",
                ")"
            ],
            "metadata": {
                "azdata_cell_guid": "ff440e97-b676-43ea-9c0b-401fd256767e",
                "language": "sql",
                "tags": []
            },
            "outputs": [
                {
                    "output_type": "display_data",
                    "data": {
                        "text/html": "Commands completed successfully."
                    },
                    "metadata": {}
                },
                {
                    "output_type": "display_data",
                    "data": {
                        "text/html": "Total execution time: 00:00:00.013"
                    },
                    "metadata": {}
                }
            ],
            "execution_count": 3
        },
        {
            "cell_type": "code",
            "source": [
                "DROP Table users"
            ],
            "metadata": {
                "language": "sql",
                "azdata_cell_guid": "c6b6788c-3dc9-40fa-a103-f88eaf96951c"
            },
            "outputs": [
                {
                    "output_type": "display_data",
                    "data": {
                        "text/html": "Commands completed successfully."
                    },
                    "metadata": {}
                },
                {
                    "output_type": "display_data",
                    "data": {
                        "text/html": "Total execution time: 00:00:00.017"
                    },
                    "metadata": {}
                }
            ],
            "execution_count": 2
        },
        {
            "cell_type": "markdown",
            "source": [
                "A second table is needed to hold the information about the photos being stored. However, as we are storing this as a filestream we must first ensure that we have a filegroup ready."
            ],
            "metadata": {
                "azdata_cell_guid": "bcee28fc-960e-4980-ac03-399814ed1471"
            },
            "attachments": {}
        },
        {
            "cell_type": "code",
            "source": [
                "-- Create a FILESTREAM filegroup\r\n",
                "ALTER DATABASE Users\r\n",
                "ADD FILEGROUP PhotosFileGroup\r\n",
                "CONTAINS FILESTREAM;"
            ],
            "metadata": {
                "azdata_cell_guid": "1f364eb2-4089-4908-a922-64d89429bb9f",
                "language": "sql"
            },
            "outputs": [],
            "execution_count": null
        },
        {
            "cell_type": "code",
            "source": [
                "-- Create a FILESTREAM container\r\n",
                "ALTER DATABASE Users\r\n",
                "ADD FILE (\r\n",
                "    NAME = PhotosContainer,\r\n",
                "    FILENAME = 'C:\\DissertationPhotos'\r\n",
                ")\r\n",
                "TO FILEGROUP PhotosFileGroup;"
            ],
            "metadata": {
                "azdata_cell_guid": "437d9c02-d028-4cf7-aacf-4894c925fce9",
                "language": "sql",
                "tags": []
            },
            "outputs": [
                {
                    "output_type": "display_data",
                    "data": {
                        "text/html": "Commands completed successfully."
                    },
                    "metadata": {}
                },
                {
                    "output_type": "display_data",
                    "data": {
                        "text/html": "Total execution time: 00:00:00.056"
                    },
                    "metadata": {}
                }
            ],
            "execution_count": 13
        },
        {
            "cell_type": "code",
            "source": [
                "CREATE TABLE Images\r\n",
                "(\r\n",
                "    ImageID UNIQUEIDENTIFIER ROWGUIDCOL UNIQUE NOT NULL DEFAULT NEWID(),\r\n",
                "    FileName NVARCHAR(255),\r\n",
                "    ImageData VARBINARY(MAX) FILESTREAM\r\n",
                ");"
            ],
            "metadata": {
                "azdata_cell_guid": "300c291d-f9e9-44ae-a498-3300bfa2e977",
                "language": "sql"
            },
            "outputs": [
                {
                    "output_type": "display_data",
                    "data": {
                        "text/html": "Commands completed successfully."
                    },
                    "metadata": {}
                },
                {
                    "output_type": "display_data",
                    "data": {
                        "text/html": "Total execution time: 00:00:00.017"
                    },
                    "metadata": {}
                }
            ],
            "execution_count": 15
        },
        {
            "cell_type": "code",
            "source": [
                "CREATE TABLE ImagesTwo\r\n",
                "(\r\n",
                "    ImageTwoID UNIQUEIDENTIFIER ROWGUIDCOL UNIQUE NOT NULL DEFAULT NEWID(),\r\n",
                "    FileName NVARCHAR(255),\r\n",
                "    ImageTwoData NVARCHAR(max)\r\n",
                ")"
            ],
            "metadata": {
                "language": "sql",
                "azdata_cell_guid": "6c27eb33-6c80-4f92-bd43-9232197563b3"
            },
            "outputs": [
                {
                    "output_type": "display_data",
                    "data": {
                        "text/html": "Commands completed successfully."
                    },
                    "metadata": {}
                },
                {
                    "output_type": "display_data",
                    "data": {
                        "text/html": "Total execution time: 00:00:00.061"
                    },
                    "metadata": {}
                }
            ],
            "execution_count": 1
        },
        {
            "cell_type": "markdown",
            "source": [
                "As we are currently just b64 encoding our images - there is currently no need for any of the tables and Users needs to be restructured."
            ],
            "metadata": {
                "azdata_cell_guid": "8c475e4e-c0e4-4c6a-8aa9-4831ac8ed063"
            },
            "attachments": {}
        },
        {
            "cell_type": "code",
            "source": [
                "DROP TABLE Users\r\n",
                "DROP Table ImagesTwo\r\n",
                "DROP TABLE Images\r\n",
                ""
            ],
            "metadata": {
                "azdata_cell_guid": "c7b130e0-8402-46f9-876d-ff9e69961cf5",
                "language": "sql"
            },
            "outputs": [
                {
                    "output_type": "display_data",
                    "data": {
                        "text/html": "Commands completed successfully."
                    },
                    "metadata": {}
                },
                {
                    "output_type": "display_data",
                    "data": {
                        "text/html": "Total execution time: 00:00:00.029"
                    },
                    "metadata": {}
                }
            ],
            "execution_count": 1
        },
        {
            "cell_type": "markdown",
            "source": [
                "A new table is needed which will contain the UserID and Keystroke pattern of each user each time they sign in."
            ],
            "metadata": {
                "azdata_cell_guid": "738740f6-7e54-4456-adfd-24f78a857ae9"
            },
            "attachments": {}
        },
        {
            "cell_type": "code",
            "source": [
                "CREATE TABLE Keystrokes(\r\n",
                "    PatternNumber INT PRIMARY KEY NOT NULL IDENTITY(1,1),\r\n",
                "    UserID INT NOT NULL,\r\n",
                "    Keystrokes NVARCHAR(max),\r\n",
                "    FOREIGN KEY (UserID) REFERENCES Users(UserID)\r\n",
                "\r\n",
                ")"
            ],
            "metadata": {
                "azdata_cell_guid": "9c42af7e-77e8-47e6-8329-2420a572d62c",
                "language": "sql"
            },
            "outputs": [
                {
                    "output_type": "display_data",
                    "data": {
                        "text/html": "Commands completed successfully."
                    },
                    "metadata": {}
                },
                {
                    "output_type": "display_data",
                    "data": {
                        "text/html": "Total execution time: 00:00:00.025"
                    },
                    "metadata": {}
                }
            ],
            "execution_count": 2
        },
        {
            "cell_type": "markdown",
            "source": [
                "Change the sign up query within the"
            ],
            "metadata": {
                "azdata_cell_guid": "1310d4d6-4962-4b4a-899f-be10a9def837"
            },
            "attachments": {}
        },
        {
            "cell_type": "code",
            "source": [
                "CREATE PROCEDURE UserSignUp(\r\n",
                "    @Username NVARCHAR(50),\r\n",
                "    @Password NVARCHAR(512),\r\n",
                "    @Image NVARCHAR(max),\r\n",
                "    @Keystrokes NVARCHAR(max)\r\n",
                ")\r\n",
                "\r\n",
                "AS\r\n",
                "BEGIN\r\n",
                "    BEGIN TRANSACTION\r\n",
                "\r\n",
                "        BEGIN TRY\r\n",
                "            DECLARE @Error NVARCHAR(Max);\r\n",
                "            DECLARE @UserID INT;\r\n",
                "            BEGIN\r\n",
                "                INSERT INTO users (Username, Password, image) VALUES (@Username, @Password, @Image)\r\n",
                "                SET @UserID = (SELECT UserID FROM users WHERE (Username = @Username))\r\n",
                "                INSERT INTO Keystrokes (UserID, Keystrokes) VALUES (@UserID, @Keystrokes)\r\n",
                "            END\r\n",
                "            IF @@TRANCOUNT > 0 COMMIT;\r\n",
                "        END TRY\r\n",
                "        \r\n",
                "        BEGIN CATCH\r\n",
                "            IF @@TRANCOUNT > 0\r\n",
                "                ROLLBACK TRANSACTION\r\n",
                "            RAISERROR(@Error,1,0);\r\n",
                "        END CATCH;\r\n",
                "END;"
            ],
            "metadata": {
                "azdata_cell_guid": "9da4fd25-cf23-4ffa-b14e-fc2dfe576558",
                "language": "sql"
            },
            "outputs": [
                {
                    "output_type": "display_data",
                    "data": {
                        "text/html": "Commands completed successfully."
                    },
                    "metadata": {}
                },
                {
                    "output_type": "display_data",
                    "data": {
                        "text/html": "Total execution time: 00:00:00.013"
                    },
                    "metadata": {}
                }
            ],
            "execution_count": 10
        },
        {
            "cell_type": "markdown",
            "source": [
                "Stored Procedure for user signing in"
            ],
            "metadata": {
                "azdata_cell_guid": "89c9b985-b5ef-4a92-b55b-930ea835856e"
            },
            "attachments": {}
        },
        {
            "cell_type": "code",
            "source": [
                "CREATE PROCEDURE UserSignIn(\r\n",
                "    @UserID int,\r\n",
                "    @Keystrokes NVARCHAR(max)\r\n",
                ")\r\n",
                "\r\n",
                "AS\r\n",
                "BEGIN\r\n",
                "    BEGIN TRANSACTION\r\n",
                "\r\n",
                "        BEGIN TRY\r\n",
                "            DECLARE @Error NVARCHAR(Max);\r\n",
                "            BEGIN\r\n",
                "                INSERT INTO Keystrokes (UserID, Keystrokes) VALUES (@UserID, @Keystrokes)\r\n",
                "            END\r\n",
                "            IF @@TRANCOUNT > 0 COMMIT;\r\n",
                "        END TRY\r\n",
                "        \r\n",
                "        BEGIN CATCH\r\n",
                "            IF @@TRANCOUNT > 0\r\n",
                "                ROLLBACK TRANSACTION\r\n",
                "            RAISERROR(@Error,1,0);\r\n",
                "        END CATCH;\r\n",
                "END;"
            ],
            "metadata": {
                "azdata_cell_guid": "f33853ae-f845-4192-bfe7-ad111296490c",
                "language": "sql"
            },
            "outputs": [
                {
                    "output_type": "display_data",
                    "data": {
                        "text/html": "Commands completed successfully."
                    },
                    "metadata": {}
                },
                {
                    "output_type": "display_data",
                    "data": {
                        "text/html": "Total execution time: 00:00:00.004"
                    },
                    "metadata": {}
                }
            ],
            "execution_count": 15
        },
        {
            "cell_type": "code",
            "source": [
                "DROP PROCEDURE UserSignIn"
            ],
            "metadata": {
                "language": "sql",
                "azdata_cell_guid": "b3b88461-ede6-4d1b-ae1a-c7b4ac037ae0"
            },
            "outputs": [
                {
                    "output_type": "display_data",
                    "data": {
                        "text/html": "Commands completed successfully."
                    },
                    "metadata": {}
                },
                {
                    "output_type": "display_data",
                    "data": {
                        "text/html": "Total execution time: 00:00:00.011"
                    },
                    "metadata": {}
                }
            ],
            "execution_count": 13
        }
    ]
}