{
 "cells": [
  {
   "cell_type": "markdown",
   "metadata": {},
   "source": [
    "# Machine Learning Model\n",
    "\n",
    "Machine Learning Model for user sign in - this takes in a list of keystroke patterns of the attempted logins from the user. It trains the model each attempt and returns a confidence score based on the new provided keystroke pattern vs what the system would expect."
   ]
  },
  {
   "cell_type": "code",
   "execution_count": null,
   "metadata": {},
   "outputs": [],
   "source": [
    "#This work will be annotated using the Better Comments Extension\n",
    "#! This is for notes and for things that need to be worked on, mainly error handling\n",
    "#? This is for questioning if this is finished or needs adding/reworking\n",
    "#*This text will highlight, this will mainly be for notes\n",
    "#//This should cross out any lines of code that are no longer needed or used during testing.\n",
    "#TODO This is for annotating work that needs to be implemented.\n",
    "\n",
    "from sklearn.model_selection import train_test_split\n",
    "from sklearn.feature_extraction.text import TfidfVectorizer\n",
    "from sklearn.ensemble import RandomForestClassifier\n",
    "from sklearn.metrics import accuracy_score\n",
    "import sys\n",
    "import json"
   ]
  },
  {
   "cell_type": "code",
   "execution_count": null,
   "metadata": {},
   "outputs": [],
   "source": [
    "#* Data Preperation\n",
    "#data = #This will be the list sent over from the C# project\n",
    "#expected = #This will be the bit value from the table\n",
    "if len(sys.argv) > 1:\n",
    "    json_list = sys.argv[1]\n",
    "    object_list = json.loads(json_list)\n",
    "    \n",
    "    #TODO Begin Machine Learning\n",
    "    #//confidence_value = your_machine_learning_function(object_list)\n",
    "    \n",
    "    print(confidence_value)\n",
    "\n",
    "vectorizer = TfidfVectorizer()\n",
    "X = vectorizer.fit_transform(data)\n",
    "\n",
    "X_train, X_test, y_train, y_test = train_test_split(X, labels, test_size=0.2, random_state=42)\n"
   ]
  }
 ],
 "metadata": {
  "language_info": {
   "name": "python"
  }
 },
 "nbformat": 4,
 "nbformat_minor": 2
}
